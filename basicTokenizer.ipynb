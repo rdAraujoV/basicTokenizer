{
  "metadata": {
    "kernelspec": {
      "name": "python",
      "display_name": "Python (Pyodide)",
      "language": "python"
    },
    "language_info": {
      "codemirror_mode": {
        "name": "python",
        "version": 3
      },
      "file_extension": ".py",
      "mimetype": "text/x-python",
      "name": "python",
      "nbconvert_exporter": "python",
      "pygments_lexer": "ipython3",
      "version": "3.8"
    }
  },
  "nbformat_minor": 5,
  "nbformat": 4,
  "cells": [
    {
      "id": "44455c6b-2b0c-4049-bc18-191c6caeb1b9",
      "cell_type": "code",
      "source": "text = 'Provérbios de Salomão, filho de Davi, rei de Israel. 2- Eles ajudarão a adquirir a sabedoria e a instrução; a compreender as palavras que dão entendimento;'\ntokens = text.encode(encoding='UTF-8', errors='strict')\nprint(text, \"\\n\")\nprint(list(tokens))\nprint(\"tokens length before merge: \", len(tokens), \"\\n\")",
      "metadata": {
        "trusted": true
      },
      "outputs": [
        {
          "name": "stdout",
          "output_type": "stream",
          "text": "Provérbios de Salomão, filho de Davi, rei de Israel. 2- Eles ajudarão a adquirir a sabedoria e a instrução; a compreender as palavras que dão entendimento; \n\n[80, 114, 111, 118, 195, 169, 114, 98, 105, 111, 115, 32, 100, 101, 32, 83, 97, 108, 111, 109, 195, 163, 111, 44, 32, 102, 105, 108, 104, 111, 32, 100, 101, 32, 68, 97, 118, 105, 44, 32, 114, 101, 105, 32, 100, 101, 32, 73, 115, 114, 97, 101, 108, 46, 32, 50, 45, 32, 69, 108, 101, 115, 32, 97, 106, 117, 100, 97, 114, 195, 163, 111, 32, 97, 32, 97, 100, 113, 117, 105, 114, 105, 114, 32, 97, 32, 115, 97, 98, 101, 100, 111, 114, 105, 97, 32, 101, 32, 97, 32, 105, 110, 115, 116, 114, 117, 195, 167, 195, 163, 111, 59, 32, 97, 32, 99, 111, 109, 112, 114, 101, 101, 110, 100, 101, 114, 32, 97, 115, 32, 112, 97, 108, 97, 118, 114, 97, 115, 32, 113, 117, 101, 32, 100, 195, 163, 111, 32, 101, 110, 116, 101, 110, 100, 105, 109, 101, 110, 116, 111, 59]\ntokens length before merge:  161 \n\n"
        }
      ],
      "execution_count": 5
    },
    {
      "id": "d0d6dcbc-39bd-471d-b058-76155a712e9f",
      "cell_type": "code",
      "source": "def get_stats(ids):\n    pair_counts = {}\n    \n    for i in range(len(ids) - 1):\n        pair = (ids[i], ids[i+1])\n        \n        if pair in pair_counts:\n            pair_counts[pair] += 1\n        else:\n            pair_counts[pair] = 1\n        \n    return pair_counts\n\ndef merge(ids, pair, new_token):\n    new_ids = []\n    i = 0\n    while i < len(ids):\n        if i < len(ids) - 1 and (ids[i], ids[i+1]) == pair:\n            new_ids.append(new_token)\n            i += 2\n        else:\n            new_ids.append(ids[i])\n            i += 1\n    return new_ids\n            \nstats = get_stats(tokens)\n\nFREQUENCY_THRESHOLD = 4\n\nmerge_history = []\n\nwhile stats:\n    most_frequent_pair = max(stats, key=stats.get)\n    \n    highest_frequency = stats[most_frequent_pair]\n    if highest_frequency < FREQUENCY_THRESHOLD:\n        break\n    \n    new_token = max(tokens) + 1\n    merge_history.append((new_token, most_frequent_pair))\n    \n    tokens = merge(tokens, most_frequent_pair, new_token) \n    stats = get_stats(tokens) \n    \nprint(list(tokens))\nprint(\"tokens length after merge: \", len(tokens), \"\\n\")",
      "metadata": {
        "trusted": true
      },
      "outputs": [
        {
          "name": "stdout",
          "output_type": "stream",
          "text": "[80, 114, 111, 118, 195, 169, 114, 98, 105, 111, 115, 197, 101, 32, 83, 97, 108, 111, 109, 199, 44, 32, 102, 105, 108, 104, 111, 197, 101, 32, 68, 97, 118, 105, 44, 32, 114, 101, 105, 197, 101, 32, 73, 115, 114, 97, 101, 108, 46, 32, 50, 45, 32, 69, 108, 101, 115, 196, 106, 117, 100, 97, 114, 199, 196, 196, 100, 113, 117, 105, 114, 105, 114, 196, 32, 115, 97, 98, 101, 100, 111, 114, 105, 97, 32, 101, 196, 32, 105, 110, 115, 116, 114, 117, 195, 167, 199, 59, 196, 32, 99, 111, 109, 112, 114, 101, 200, 100, 101, 114, 196, 115, 32, 112, 97, 108, 97, 118, 114, 97, 115, 32, 113, 117, 101, 197, 199, 32, 200, 116, 200, 100, 105, 109, 200, 116, 111, 59]\ntokens length after merge:  138 \n\n"
        }
      ],
      "execution_count": 6
    },
    {
      "id": "8e2ce7bb-2059-4937-a9db-f0bf7751a230",
      "cell_type": "code",
      "source": "def decode(tokens, merge_history):\n    for new_token, pair in reversed(merge_history):\n        decoded_tokens = []\n        i = 0\n        while i < len(tokens):\n            if tokens[i] == new_token:\n                decoded_tokens.extend(pair)\n            else:\n                decoded_tokens.append(tokens[i])\n            i += 1\n        tokens = decoded_tokens\n        \n    return bytes(tokens).decode('UTF-8')\n\ndecoded_text = decode(tokens, merge_history)\nprint(\"\\nDecoded Text:\\n\", decoded_text)",
      "metadata": {
        "trusted": true
      },
      "outputs": [
        {
          "name": "stdout",
          "output_type": "stream",
          "text": "\nDecoded Text:\n Provérbios de Salomão, filho de Davi, rei de Israel. 2- Eles ajudarão a adquirir a sabedoria e a instrução; a compreender as palavras que dão entendimento;\n"
        }
      ],
      "execution_count": 7
    },
    {
      "id": "8eccd0ec-635d-4f5f-8d2e-c6ec772f9ece",
      "cell_type": "code",
      "source": "",
      "metadata": {
        "trusted": true
      },
      "outputs": [],
      "execution_count": null
    }
  ]
}