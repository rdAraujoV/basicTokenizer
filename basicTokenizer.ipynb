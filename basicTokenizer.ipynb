{
  "cells": [
    {
      "cell_type": "code",
      "execution_count": null,
      "id": "44455c6b-2b0c-4049-bc18-191c6caeb1b9",
      "metadata": {
        "trusted": true
      },
      "outputs": [
        {
          "ename": "",
          "evalue": "",
          "output_type": "error",
          "traceback": [
            "\u001b[1;31mRunning cells with 'venv (Python 3.11.9)' requires the ipykernel package.\n",
            "\u001b[1;31mRun the following command to install 'ipykernel' into the Python environment. \n",
            "\u001b[1;31mCommand: '\"d:/Coding Projects/MyAI/venv/Scripts/python.exe\" -m pip install ipykernel -U --force-reinstall'"
          ]
        }
      ],
      "source": [
        "text = \"Provérbios de Salomão, filho de Davi, rei de Israel.\"\n",
        "tokens = text.encode(encoding='UTF-8', errors='strict')\n",
        "print(text, \"\\n\")\n",
        "print(list(tokens))\n",
        "print(\"tokens length before merge: \", len(tokens), \"\\n\")"
      ]
    },
    {
      "cell_type": "code",
      "execution_count": 3,
      "id": "d0d6dcbc-39bd-471d-b058-76155a712e9f",
      "metadata": {
        "trusted": true
      },
      "outputs": [
        {
          "name": "stdout",
          "output_type": "stream",
          "text": [
            "[339, 340, 260, 114, 321, 231, 49, 32, 339, 111, 112, 341, 115, 105, 116, 297, 298, 227, 342, 339, 340, 260, 114, 321, 231, 254, 83, 271, 322, 306, 343, 229, 254, 68, 97, 272, 233, 241, 105, 32, 254, 73, 115, 114, 97, 275, 324, 238, 69, 108, 282, 97, 344, 100, 307, 227, 273, 237, 308, 308, 32, 265, 327, 328, 346, 330, 274, 227, 292, 283, 331, 266, 246, 112, 271, 97, 118, 114, 246, 267, 100, 243, 257, 331, 310, 111, 274, 347, 293, 99, 101, 98, 266, 227, 346, 243, 311, 263, 268, 291, 266, 239, 236, 115, 278, 299, 101, 122, 233, 348, 234, 250, 227, 344, 300, 105, 249, 349, 229, 344, 195, 173, 122, 297, 293, 116, 350, 330, 274, 52, 238, 97, 344, 100, 307, 227, 100, 279, 263, 117, 100, 312, 351, 97, 231, 333, 312, 117, 313, 354, 297, 98, 111, 236, 115, 278, 229, 97, 231, 106, 340, 278, 256, 53, 238, 79, 309, 227, 229, 115, 284, 321, 297, 97, 117, 109, 257, 230, 229, 355, 115, 290, 240, 233, 230, 237, 264, 116, 264, 294, 115, 99, 240, 110, 310, 229, 335, 116, 240, 284, 32, 247, 105, 257, 314, 243, 54, 238, 311, 292, 283, 331, 266, 263, 340, 260, 114, 321, 313, 277, 284, 98, 111, 108, 97, 301, 231, 294, 116, 273, 231, 302, 115, 284, 321, 313, 231, 252, 356, 234, 105, 103, 109, 357, 256, 55, 238, 79, 32, 298, 336, 250, 83, 358, 336, 315, 229, 263, 242, 99, 195, 173, 112, 105, 229, 250, 354, 255, 337, 231, 329, 278, 299, 231, 360, 280, 265, 327, 328, 346, 330, 256, 339, 341, 108, 111, 103, 111, 58, 32, 69, 120, 247, 116, 314, 195, 181, 282, 227, 98, 117, 115, 99, 279, 265, 327, 65, 100, 361, 116, 312, 351, 362, 229, 234, 103, 245, 229, 56, 238, 79, 309, 349, 109, 317, 343, 255, 227, 346, 243, 250, 355, 112, 97, 105, 32, 230, 295, 290, 245, 100, 363, 230, 229, 278, 242, 229, 100, 318, 319, 235, 101, 256, 57, 238, 69, 108, 282, 115, 240, 243, 364, 98, 275, 229, 294, 273, 248, 265, 335, 114, 230, 318, 227, 99, 290, 101, 249, 227, 230, 364, 239, 108, 279, 311, 273, 247, 110, 279, 229, 355, 112, 244, 239, 249, 111, 256, 49, 48, 238, 77, 317, 343, 255, 365, 112, 334, 273, 111, 241, 228, 116, 257, 232, 264, 252, 100, 117, 122, 105, 303, 145, 108, 255, 295, 99, 291, 97, 366, 49, 342, 84, 271, 118, 101, 122, 32, 367, 294, 103, 259, 58, 32, 303, 156, 86, 358, 227, 251, 253, 239, 233, 102, 105, 237, 248, 231, 254, 116, 268, 97, 261, 311, 100, 240, 114, 259, 279, 115, 245, 286, 101, 233, 118, 259, 231, 232, 109, 279, 117, 109, 227, 248, 98, 253, 99, 273, 227, 252, 236, 99, 97, 117, 115, 227, 362, 237, 264, 254, 110, 273, 318, 115, 112, 368, 97, 366, 49, 50, 238, 86, 259, 231, 234, 103, 111, 108, 105, 303, 145, 108, 231, 272, 118, 369, 370, 227, 252, 112, 117, 108, 116, 371, 349, 230, 242, 116, 270, 114, 369, 370, 231, 267, 285, 99, 264, 195, 160, 32, 239, 118, 97, 274, 49, 347, 372, 104, 232, 248, 231, 287, 250, 116, 105, 112, 229, 254, 335, 106, 101, 116, 231, 118, 271, 105, 253, 313, 234, 99, 104, 240, 248, 231, 246, 110, 253, 115, 246, 99, 357, 246, 239, 236, 285, 112, 111, 106, 253, 274, 49, 52, 238, 108, 245, 99, 230, 318, 265, 247, 116, 230, 251, 253, 239, 274, 294, 272, 294, 241, 109, 231, 264, 277, 116, 282, 105, 286, 97, 105, 228, 116, 117, 250, 304, 251, 252, 286, 308, 109, 253, 33, 303, 157, 256, 49, 53, 238, 77, 317, 343, 255, 295, 365, 100, 270, 120, 230, 108, 101, 118, 279, 112, 336, 244, 115, 227, 103, 257, 101, 366, 65, 332, 300, 230, 231, 112, 260, 228, 250, 99, 259, 320, 304, 367, 252, 286, 248, 233, 49, 54, 238, 112, 111, 105, 228, 231, 112, 260, 228, 100, 367, 239, 114, 241, 236, 311, 348, 266, 229, 109, 271, 233, 338, 243, 115, 248, 263, 230, 263, 363, 116, 231, 311, 100, 240, 114, 259, 279, 115, 245, 286, 101, 256, 49, 55, 238, 67, 240, 116, 259, 257, 230, 315, 242, 195, 186, 116, 281, 32, 338, 331, 266, 293, 254, 195, 160, 32, 272, 300, 227, 254, 237, 271, 237, 266, 244, 112, 260, 99, 105, 230, 254, 112, 284, 115, 115, 232, 255, 49, 56, 238, 337, 367, 348, 264, 116, 268, 97, 261, 362, 229, 263, 341, 263, 105, 229, 115, 245, 286, 101, 274, 232, 109, 280, 248, 98, 253, 99, 273, 246, 316, 265, 105, 32, 109, 244, 109, 253, 366, 49, 57, 238, 84, 271, 32, 315, 227, 361, 291, 227, 254, 287, 302, 231, 267, 108, 117, 99, 114, 280, 112, 275, 227, 103, 245, 195, 162, 110, 99, 105, 349, 230, 244, 115, 227, 103, 245, 195, 162, 110, 351, 287, 109, 227, 227, 272, 100, 227, 254, 287, 302, 231, 267, 227, 112, 253, 115, 117, 248, 256, 65, 100, 361, 116, 312, 351, 362, 293, 106, 270, 249, 243, 195, 160, 32, 115, 327, 50, 48, 238, 65, 32, 115, 327, 99, 108, 259, 227, 264, 271, 116, 227, 118, 111, 122, 32, 110, 246, 114, 117, 97, 301, 240, 286, 328, 118, 111, 122, 32, 110, 246, 263, 314, 246, 112, 195, 186, 98, 108, 105, 99, 357, 324, 342, 68, 230, 99, 276, 227, 302, 109, 371, 231, 275, 227, 99, 108, 259, 97, 274, 110, 246, 112, 247, 116, 246, 100, 227, 99, 350, 97, 254, 348, 32, 229, 355, 294, 115, 99, 371, 115, 111, 58, 32, 50, 50, 238, 303, 156, 65, 116, 315, 289, 305, 301, 333, 312, 117, 369, 259, 307, 318, 227, 333, 234, 117, 350, 273, 101, 63, 32, 86, 296, 301, 122, 322, 98, 273, 111, 241, 301, 299, 315, 289, 116, 240, 243, 263, 97, 122, 266, 110, 227, 122, 322, 98, 232, 105, 97, 63, 32, 69, 32, 305, 301, 287, 108, 369, 299, 315, 289, 360, 307, 229, 354, 111, 63, 32, 50, 347, 83, 230, 372, 299, 232, 264, 373, 293, 283, 278, 306, 292, 277, 116, 323, 232, 374, 239, 236, 375, 231, 109, 101, 356, 112, 278, 259, 257, 231, 195, 173, 110, 116, 276, 313, 376, 282, 241, 118, 275, 232, 374, 231, 109, 101, 356, 278, 242, 253, 324, 52, 238, 67, 363, 116, 117, 100, 255, 272, 300, 304, 375, 377, 241, 106, 368, 232, 280, 289, 231, 99, 104, 259, 374, 230, 110, 242, 286, 260, 236, 365, 276, 112, 247, 287, 269, 289, 338, 234, 294, 32, 319, 330, 274, 50, 53, 238, 272, 300, 304, 360, 232, 280, 287, 116, 271, 109, 257, 230, 229, 109, 317, 251, 252, 376, 297, 295, 237, 105, 115, 378, 372, 368, 279, 373, 293, 283, 278, 306, 50, 54, 238, 101, 117, 233, 100, 373, 227, 277, 116, 101, 233, 118, 111, 269, 114, 308, 32, 100, 318, 227, 285, 103, 114, 314, 97, 274, 122, 322, 98, 232, 374, 289, 304, 298, 264, 115, 335, 241, 272, 266, 227, 305, 301, 50, 55, 238, 289, 97, 237, 281, 304, 298, 264, 115, 335, 241, 272, 266, 227, 375, 370, 117, 109, 227, 298, 112, 338, 273, 101, 233, 289, 227, 285, 103, 114, 314, 227, 231, 299, 333, 308, 32, 370, 364, 118, 331, 97, 118, 271, 233, 289, 227, 245, 103, 195, 186, 300, 261, 328, 100, 336, 231, 100, 322, 242, 232, 248, 324, 56, 238, 303, 156, 69, 110, 116, 306, 375, 377, 99, 104, 259, 232, 306, 337, 317, 295, 241, 115, 112, 363, 100, 240, 270, 274, 263, 268, 371, 307, 112, 336, 109, 276, 233, 337, 295, 377, 234, 316, 232, 330, 324, 57, 238, 86, 105, 300, 304, 360, 232, 280, 229, 354, 297, 295, 244, 239, 376, 378, 298, 266, 97, 229, 83, 358, 247, 233, 51, 48, 238, 295, 237, 105, 115, 378, 372, 368, 279, 229, 109, 317, 251, 252, 376, 297, 102, 105, 122, 378, 112, 111, 117, 99, 229, 99, 357, 229, 254, 287, 100, 227, 373, 293, 283, 278, 306, 51, 342, 292, 240, 243, 250, 102, 114, 117, 116, 229, 302, 252, 356, 99, 259, 320, 313, 365, 102, 232, 116, 307, 100, 246, 115, 117, 246, 263, 341, 263, 105, 246, 109, 97, 237, 242, 314, 195, 181, 244, 256, 51, 50, 238, 80, 247, 267, 293, 98, 275, 100, 261, 302, 333, 312, 117, 231, 231, 109, 299, 232, 284, 233, 328, 262, 245, 237, 281, 350, 97, 254, 302, 287, 108, 231, 231, 285, 262, 117, 308, 284, 233, 51, 347, 337, 237, 264, 377, 111, 117, 272, 114, 32, 272, 361, 284, 32, 264, 252, 286, 114, 245, 249, 227, 230, 338, 232, 284, 32, 262, 245, 237, 281, 255, 252, 236, 298, 266, 110, 358, 364, 109, 271, 303, 157, 46]\n",
            "tokens length after merge:  1533 \n",
            "\n"
          ]
        }
      ],
      "source": [
        "def get_stats(ids):\n",
        "    pair_counts = {}\n",
        "    \n",
        "    for i in range(len(ids) - 1):\n",
        "        pair = (ids[i], ids[i+1])\n",
        "        \n",
        "        if pair in pair_counts:\n",
        "            pair_counts[pair] += 1\n",
        "        else:\n",
        "            pair_counts[pair] = 1\n",
        "        \n",
        "    return pair_counts\n",
        "\n",
        "def merge(ids, pair, new_token):\n",
        "    new_ids = []\n",
        "    i = 0\n",
        "    while i < len(ids):\n",
        "        if i < len(ids) - 1 and (ids[i], ids[i+1]) == pair:\n",
        "            new_ids.append(new_token)\n",
        "            i += 2\n",
        "        else:\n",
        "            new_ids.append(ids[i])\n",
        "            i += 1\n",
        "    return new_ids\n",
        "            \n",
        "stats = get_stats(tokens)\n",
        "\n",
        "FREQUENCY_THRESHOLD = 4\n",
        "\n",
        "merge_history = []\n",
        "\n",
        "while stats:\n",
        "    most_frequent_pair = max(stats, key=stats.get)\n",
        "    \n",
        "    highest_frequency = stats[most_frequent_pair]\n",
        "    if highest_frequency < FREQUENCY_THRESHOLD:\n",
        "        break\n",
        "    \n",
        "    new_token = max(tokens) + 1\n",
        "    merge_history.append((new_token, most_frequent_pair))\n",
        "    \n",
        "    tokens = merge(tokens, most_frequent_pair, new_token) \n",
        "    stats = get_stats(tokens) \n",
        "    \n",
        "print(list(tokens))\n",
        "print(\"tokens length after merge: \", len(tokens), \"\\n\")"
      ]
    },
    {
      "cell_type": "code",
      "execution_count": 4,
      "id": "8e2ce7bb-2059-4937-a9db-f0bf7751a230",
      "metadata": {
        "trusted": true
      },
      "outputs": [
        {
          "name": "stdout",
          "output_type": "stream",
          "text": [
            "\n",
            "Decoded Text:\n",
            " Provérbios 1 Propósito e tema 1- Provérbios de Salomão, filho de Davi, rei de Israel. 2- Eles ajudarão a adquirir a sabedoria e a instrução; a compreender as palavras que dão entendimento; 3- a receber a instrução para proceder com sensatez, fazendo a justiça, o juízo e a retidão; 4- ajudarão a dar prudência aos ingênuos e conhecimento e bom senso aos jovens. 5- Ouça o sábio e aumente o seu saber, e quem tem discernimento obterá orientação 6- para compreender provérbios e parábolas, os ditados dos sábios e os seus enigmas. 7- O temor do Senhor é o princípio do conhecimento, mas os insensatos desprezam a sabedoria e a instrução. Prólogo: Exortações a buscar a sabedoria Advertência contra o engano 8- Ouça, meu filho, a instrução do seu pai e não abandone o ensino da sua mãe. 9- Eles serão um belo diadema sobre a sua cabeça e um colar para adornar o seu pescoço. 10- Meu filho, se pecadores tentarem seduzi‑lo, não ceda! 11- Talvez eles digam: “Venha conosco, fiquemos de tocaia para derramar sangue, vamos armar uma emboscada sem causa contra quem de nada suspeita! 12- Vamos engoli‑los vivos, como a sepultura, e inteiros, como os que descem à cova; 13- acharemos todo tipo de objetos valiosos e encheremos as nossas casas com despojos; 14- lance a sua sorte conosco; dividiremos em partes iguais tudo o que conseguirmos!”. 15- Meu filho, não se deixe levar por essa gente! Afaste os pés do caminho que eles seguem, 16- pois os pés deles correm para fazer o mal, estão sempre prontos para derramar sangue. 17- Certamente é inútil estender a rede à vista de qualquer espécie de pássaro, 18- mas eles fazem tocaia contra o próprio sangue; armam emboscadas contra si mesmos! 19- Tal é a vereda de todos os que lucram pela ganância, e essa ganância toma a vida de todos os que a possuem. Advertência contra a rejeição à sabedoria 20- A sabedoria clama em alta voz nas ruas, ergue a voz nas praças públicas. 21- De cima dos muros ela clama; nas portas da cidade faz o seu discurso: 22- “Até quando vocês, ingênuos, amarão a sua ingenuidade? Vocês, zombadores, até quando terão prazer na zombaria? E vocês, tolos, até quando desprezarão o conhecimento? 23- Se acatarem a minha repreensão, compartilharei com vocês os meus pensamentos íntimos e lhes revelarei os meus ensinos. 24- Contudo, visto que vocês me rejeitaram quando os chamei e ninguém se importou quando estendi a mão; 25- visto que desprezaram totalmente o meu conselho e não quiseram aceitar a minha repreensão, 26- eu, da minha parte, vou rir da sua desgraça; zombarei quando o que temem sobrevier a vocês, 27- quando aquilo que temem sobrevier a vocês como uma tempestade, quando a desgraça os atingir como um vendaval, quando a angústia e a dor os dominarem. 28- “Então, vocês me chamarão, mas eu não responderei; procurarão por mim, mas não me encontrarão. 29- Visto que desprezaram o conhecimento e não escolheram temer ao Senhor, 30- não quiseram aceitar o meu conselho e fizeram pouco caso de toda a minha repreensão, 31- comerão do fruto dos seus caminhos e se fartarão das suas próprias maquinações. 32- Porque a rebeldia dos ingênuos os matará, e a tranquilidade dos tolos os destruirá, 33- mas quem me ouvir viverá em segurança e estará tranquilo, sem temer nenhum mal”.\n"
          ]
        }
      ],
      "source": [
        "def decode(tokens, merge_history):\n",
        "    for new_token, pair in reversed(merge_history):\n",
        "        decoded_tokens = []\n",
        "        i = 0\n",
        "        while i < len(tokens):\n",
        "            if tokens[i] == new_token:\n",
        "                decoded_tokens.extend(pair)\n",
        "            else:\n",
        "                decoded_tokens.append(tokens[i])\n",
        "            i += 1\n",
        "        tokens = decoded_tokens\n",
        "        \n",
        "    return bytes(tokens).decode('UTF-8')\n",
        "\n",
        "decoded_text = decode(tokens, merge_history)\n",
        "print(\"\\nDecoded Text:\\n\", decoded_text)"
      ]
    },
    {
      "cell_type": "code",
      "execution_count": null,
      "id": "8eccd0ec-635d-4f5f-8d2e-c6ec772f9ece",
      "metadata": {
        "trusted": true
      },
      "outputs": [],
      "source": []
    }
  ],
  "metadata": {
    "kernelspec": {
      "display_name": "venv",
      "language": "python",
      "name": "python3"
    },
    "language_info": {
      "codemirror_mode": {
        "name": "python",
        "version": 3
      },
      "file_extension": ".py",
      "mimetype": "text/x-python",
      "name": "python",
      "nbconvert_exporter": "python",
      "pygments_lexer": "ipython3",
      "version": "3.11.9"
    }
  },
  "nbformat": 4,
  "nbformat_minor": 5
}
