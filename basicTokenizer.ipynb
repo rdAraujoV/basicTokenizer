{
  "metadata": {
    "kernelspec": {
      "name": "python",
      "display_name": "Python (Pyodide)",
      "language": "python"
    },
    "language_info": {
      "codemirror_mode": {
        "name": "python",
        "version": 3
      },
      "file_extension": ".py",
      "mimetype": "text/x-python",
      "name": "python",
      "nbconvert_exporter": "python",
      "pygments_lexer": "ipython3",
      "version": "3.8"
    }
  },
  "nbformat_minor": 5,
  "nbformat": 4,
  "cells": [
    {
      "id": "f6d8e9f3-495f-4d2f-8ef4-a715d3b43a67",
      "cell_type": "code",
      "source": "text = 'Provérbios 1 Propósito e tema 1- Provérbios de Salomão, filho de Davi, rei de Israel. 2- Eles ajudarão a adquirir a sabedoria e a instrução; a compreender as palavras que dão entendimento; 3- a receber a instrução para proceder com sensatez, fazendo a justiça, o juízo e a retidão; 4- ajudarão a dar prudência aos ingênuos e conhecimento e bom senso aos jovens. 5- Ouça o sábio e aumente o seu saber, e quem tem discernimento obterá orientação 6- para compreender provérbios e parábolas, os ditados dos sábios e os seus enigmas. 7- O temor do Senhor é o princípio do conhecimento, mas os insensatos desprezam a sabedoria e a instrução. Prólogo: Exortações a buscar a sabedoria Advertência contra o engano 8- Ouça, meu filho, a instrução do seu pai e não abandone o ensino da sua mãe. 9- Eles serão um belo diadema sobre a sua cabeça e um colar para adornar o seu pescoço. 10- Meu filho, se pecadores tentarem seduzi‑lo, não ceda! 11- Talvez eles digam: “Venha conosco, fiquemos de tocaia para derramar sangue, vamos armar uma emboscada sem causa contra quem de nada suspeita! 12- Vamos engoli‑los vivos, como a sepultura, e inteiros, como os que descem à cova; 13- acharemos todo tipo de objetos valiosos e encheremos as nossas casas com despojos; 14- lance a sua sorte conosco; dividiremos em partes iguais tudo o que conseguirmos!”. 15- Meu filho, não se deixe levar por essa gente! Afaste os pés do caminho que eles seguem, 16- pois os pés deles correm para fazer o mal, estão sempre prontos para derramar sangue. 17- Certamente é inútil estender a rede à vista de qualquer espécie de pássaro, 18- mas eles fazem tocaia contra o próprio sangue; armam emboscadas contra si mesmos! 19- Tal é a vereda de todos os que lucram pela ganância, e essa ganância toma a vida de todos os que a possuem. Advertência contra a rejeição à sabedoria 20- A sabedoria clama em alta voz nas ruas, ergue a voz nas praças públicas. 21- De cima dos muros ela clama; nas portas da cidade faz o seu discurso: 22- “Até quando vocês, ingênuos, amarão a sua ingenuidade? Vocês, zombadores, até quando terão prazer na zombaria? E vocês, tolos, até quando desprezarão o conhecimento? 23- Se acatarem a minha repreensão, compartilharei com vocês os meus pensamentos íntimos e lhes revelarei os meus ensinos. 24- Contudo, visto que vocês me rejeitaram quando os chamei e ninguém se importou quando estendi a mão; 25- visto que desprezaram totalmente o meu conselho e não quiseram aceitar a minha repreensão, 26- eu, da minha parte, vou rir da sua desgraça; zombarei quando o que temem sobrevier a vocês, 27- quando aquilo que temem sobrevier a vocês como uma tempestade, quando a desgraça os atingir como um vendaval, quando a angústia e a dor os dominarem. 28- “Então, vocês me chamarão, mas eu não responderei; procurarão por mim, mas não me encontrarão. 29- Visto que desprezaram o conhecimento e não escolheram temer ao Senhor, 30- não quiseram aceitar o meu conselho e fizeram pouco caso de toda a minha repreensão, 31- comerão do fruto dos seus caminhos e se fartarão das suas próprias maquinações. 32- Porque a rebeldia dos ingênuos os matará, e a tranquilidade dos tolos os destruirá, 33- mas quem me ouvir viverá em segurança e estará tranquilo, sem temer nenhum mal”.'\ntokens = list(text.encode(encoding='UTF-8', errors='strict'))\ntokenizer_vocab = {byte: chr(byte) for byte in sorted(set(tokens))}\n\n##print(tokens)\n##print(\"Tokens length before merge: \", len(tokens), \"\\n\")",
      "metadata": {
        "trusted": true
      },
      "outputs": [],
      "execution_count": null
    },
    {
      "id": "2d65527b-83e8-49d1-9a90-d6249fbab6e7",
      "cell_type": "code",
      "source": "multibyte_tokens = {}\ncurrent_token_id = max(tokens) + 1  # Start after existing token IDs\n\ni = 0\nnew_tokens = []\nwhile i < len(tokens):\n    if tokens[i] >= 0xC0:  # UTF-8 multibyte character start\n        char_bytes = [tokens[i]]\n        i += 1\n        while i < len(tokens) and (tokens[i] >= 0x80 and tokens[i] <= 0xBF):  # Continuation bytes\n            char_bytes.append(tokens[i])\n            i += 1\n        try:\n            char = bytes(char_bytes).decode('utf-8')  # Decode full character\n        except UnicodeDecodeError:\n            print(f\"Skipping invalid UTF-8 sequence: {char_bytes}\")\n            continue\n        \n        if char not in multibyte_tokens:\n            multibyte_tokens[char] = current_token_id\n            tokenizer_vocab[current_token_id] = char\n            current_token_id += 1\n        \n        new_tokens.append(multibyte_tokens[char])\n    else:\n        new_tokens.append(tokens[i])\n        i += 1\n\ntokens = new_tokens\n##print(tokens)",
      "metadata": {
        "trusted": true
      },
      "outputs": [],
      "execution_count": null
    },
    {
      "id": "eb4f353d-2b3f-4ae9-b326-038c9e0dfc8d",
      "cell_type": "code",
      "source": "def get_stats(ids):\n    pair_counts = {}\n    \n    for i in range(len(ids) - 1):\n        pair = (ids[i], ids[i+1])\n        \n        if pair in pair_counts:\n            pair_counts[pair] += 1\n        else:\n            pair_counts[pair] = 1\n        \n    return pair_counts\n\ndef merge(ids, pair, new_token):\n    new_ids = []\n    i = 0\n    while i < len(ids):\n        if i < len(ids) - 1 and (ids[i], ids[i+1]) == pair:\n            new_ids.append(new_token)\n            i += 2\n        else:\n            new_ids.append(ids[i])\n            i += 1\n            \n        if new_token not in tokenizer_vocab:\n            tokenizer_vocab[new_token] = tokenizer_vocab[pair[0]] + tokenizer_vocab[pair[1]]\n    return new_ids\n            \nstats = get_stats(tokens)\n\nFREQUENCY_THRESHOLD = 3\n\nmerge_history = []\n\nwhile stats:\n    most_frequent_pair = max(stats, key=stats.get)\n    \n    highest_frequency = stats[most_frequent_pair]\n    if highest_frequency < FREQUENCY_THRESHOLD:\n        break\n    \n    new_token = max(tokens) + 1\n    merge_history.append((new_token, most_frequent_pair))\n    \n    tokens = merge(tokens, most_frequent_pair, new_token) \n    stats = get_stats(tokens) \n    \n##print(list(tokens))\n##print(\"Tokens length after merge: \", len(tokens), \"\\n\")",
      "metadata": {
        "trusted": true
      },
      "outputs": [],
      "execution_count": null
    },
    {
      "id": "3d18c089-2889-498c-ac47-f5e6ea6ab0cd",
      "cell_type": "code",
      "source": "def decode(tokens, merge_history):\n    for new_token, pair in reversed(merge_history):\n        decoded_tokens = []\n        i = 0\n        while i < len(tokens):\n            if tokens[i] == new_token:\n                decoded_tokens.extend(pair)\n            else:\n                decoded_tokens.append(tokens[i])\n            i += 1\n        tokens = decoded_tokens\n        \n    return bytes(tokens).decode('UTF-8')\n\ndecoded_text = decode(tokens, merge_history)\n##print(\"\\nDecoded Text:\\n\", decoded_text)",
      "metadata": {
        "trusted": true,
        "scrolled": true
      },
      "outputs": [],
      "execution_count": null
    },
    {
      "id": "fd662591-b486-47d2-bb63-a1ac4cb6d196",
      "cell_type": "code",
      "source": "decoded_vocab = ''.join(\n    chr(byte) if isinstance(byte, int) and byte < 256 else str(byte)\n    for byte in tokenizer_vocab.keys()\n)\n\nvocab_output = []\nfor token in tokens:\n    if token in tokenizer_vocab:\n        vocab_output.append(f\"{token} = \\\"{tokenizer_vocab[token]}\\\"\")\n\n##print(\"[\" + \", \".join(vocab_output) + \"]\")",
      "metadata": {
        "trusted": true
      },
      "outputs": [],
      "execution_count": null
    }
  ]
}